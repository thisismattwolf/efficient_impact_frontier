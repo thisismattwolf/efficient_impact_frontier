{
 "cells": [
  {
   "cell_type": "markdown",
   "metadata": {},
   "source": [
    "## Analyzing the (Small) Universe of Potential Loans to SME Agrofirms"
   ]
  },
  {
   "cell_type": "markdown",
   "metadata": {},
   "source": [
    "This notebook analyzes 200 hypothetical small loans to shareholder farmers and SME agrofirms in developing countries. Most of the loans are not profit-generating; they are intended to be subsidized by donor funding or grants. "
   ]
  },
  {
   "cell_type": "code",
   "execution_count": 1,
   "metadata": {},
   "outputs": [],
   "source": [
    "import pandas as pd\n",
    "import numpy as np\n",
    "import matplotlib.pyplot as plt\n",
    "import seaborn as sns\n",
    "import structures_and_methods\n",
    "field_converters={'Loan Number':float, 'Loan Amount (USD)':float, 'Industry':str, 'Lending Region':str, \\\n",
    "            'Country':str, 'Loan Additionality':str, 'Climate Change Hotspot':str,'Biodiversity Hotspot':str, \\\n",
    "            'Soil Degradation Hotspot':str, 'Water Scarcity Hotspot':str, 'Certification':str, \\\n",
    "            'Planting & maintaining trees for biodiversity conservation and carbon capture':str, \\\n",
    "            'Clean & appropriate tech for reduced emissions and resource efficiency':str,'Poverty Level':str, \\\n",
    "            'Gender Inclusion':str, 'Livelihood Improvement':str,'Farmers & Employees':float, \\\n",
    "            'Female Farmers & Employees':float, 'Probability of Default':float, 'Expected Revenue':float, \\\n",
    "            'Expected Operating Expenses':float, 'Expected Cost of Debt':float, 'Expected Cost of Risk':float, \\\n",
    "            'Expected Net Loan Income':float,'Female Proportion':float, 'Revenues Net Operational Expense':float}\n",
    "%matplotlib inline"
   ]
  },
  {
   "cell_type": "code",
   "execution_count": 2,
   "metadata": {},
   "outputs": [],
   "source": [
    "data = pd.read_csv('IFA_Assignment_Data.csv', converters=field_converters)"
   ]
  },
  {
   "cell_type": "code",
   "execution_count": 3,
   "metadata": {
    "collapsed": true
   },
   "outputs": [],
   "source": [
    "def hist_plot(vals, lab):\n",
    "    ## Distribution plot of values\n",
    "    sns.distplot(vals)\n",
    "    plt.title('Histogram of ' + lab)\n",
    "    plt.xlabel('Value')\n",
    "    plt.ylabel('Density')"
   ]
  },
  {
   "cell_type": "code",
   "execution_count": 4,
   "metadata": {},
   "outputs": [],
   "source": [
    "quant_fields = ['Loan Amount (USD)','Farmers & Employees','Female Farmers & Employees','Probability of Default', \\\n",
    "                'Expected Revenue','Expected Operating Expenses', 'Expected Cost of Debt','Expected Cost of Risk', \\\n",
    "                'Expected Net Loan Income', 'Female Proportion', 'Revenues Net Operational Expense']\n",
    "\n",
    "#for field in quant_fields:\n",
    " #   hist_plot(data[field], field)\n",
    "  #  plt.show()"
   ]
  },
  {
   "cell_type": "code",
   "execution_count": 5,
   "metadata": {},
   "outputs": [
    {
     "data": {
      "text/plain": [
       "Index(['Loan Number', 'Loan Amount (USD)', 'Industry', 'Lending Region',\n",
       "       'Country', 'Loan Additionality', 'Climate Change Hotspot',\n",
       "       'Biodiversity Hotspot', 'Soil Degradation Hotspot',\n",
       "       'Water Scarcity Hotspot', 'Certification',\n",
       "       'Planting & maintaining trees for biodiversity conservation and carbon capture',\n",
       "       'Clean & appropriate tech for reduced emissions and resource efficiency',\n",
       "       'Poverty Level', 'Gender Inclusion', 'Livelihood Improvement',\n",
       "       'Farmers & Employees', 'Female Farmers & Employees',\n",
       "       'Probability of Default', 'Expected Revenue',\n",
       "       'Expected Operating Expenses', 'Expected Cost of Debt',\n",
       "       'Expected Cost of Risk', 'Expected Net Loan Income',\n",
       "       'Female Proportion', 'Revenues Net Operational Expense'],\n",
       "      dtype='object')"
      ]
     },
     "execution_count": 5,
     "metadata": {},
     "output_type": "execute_result"
    }
   ],
   "source": [
    "data.columns"
   ]
  },
  {
   "cell_type": "code",
   "execution_count": 6,
   "metadata": {},
   "outputs": [
    {
     "name": "stdout",
     "output_type": "stream",
     "text": [
      "data.at[i, 'Loan Number'] ,\n",
      "data.at[i, 'Loan Amount (USD)'] ,\n",
      "data.at[i, 'Industry'] ,\n",
      "data.at[i, 'Lending Region'] ,\n",
      "data.at[i, 'Country'] ,\n",
      "data.at[i, 'Loan Additionality'] ,\n",
      "data.at[i, 'Climate Change Hotspot'] ,\n",
      "data.at[i, 'Biodiversity Hotspot'] ,\n",
      "data.at[i, 'Soil Degradation Hotspot'] ,\n",
      "data.at[i, 'Water Scarcity Hotspot'] ,\n",
      "data.at[i, 'Certification'] ,\n",
      "data.at[i, 'Planting & maintaining trees for biodiversity conservation and carbon capture'] ,\n",
      "data.at[i, 'Clean & appropriate tech for reduced emissions and resource efficiency'] ,\n",
      "data.at[i, 'Poverty Level'] ,\n",
      "data.at[i, 'Gender Inclusion'] ,\n",
      "data.at[i, 'Livelihood Improvement'] ,\n",
      "data.at[i, 'Farmers & Employees'] ,\n",
      "data.at[i, 'Female Farmers & Employees'] ,\n",
      "data.at[i, 'Probability of Default'] ,\n",
      "data.at[i, 'Expected Revenue'] ,\n",
      "data.at[i, 'Expected Operating Expenses'] ,\n",
      "data.at[i, 'Expected Cost of Debt'] ,\n",
      "data.at[i, 'Expected Cost of Risk'] ,\n",
      "data.at[i, 'Expected Net Loan Income'] ,\n",
      "data.at[i, 'Female Proportion'] ,\n",
      "data.at[i, 'Revenues Net Operational Expense'] ,\n"
     ]
    }
   ],
   "source": [
    "for col in data.columns:\n",
    "    print(\"data.at[i, '\" + col + \"'] ,\")"
   ]
  },
  {
   "cell_type": "code",
   "execution_count": 7,
   "metadata": {},
   "outputs": [],
   "source": [
    "from structures_and_methods import Loan\n",
    "for i in data.index:\n",
    "    \n",
    "    data.at[i, 'Loan Object'] = Loan(data.at[i, 'Loan Number'] ,\\\n",
    "                                data.at[i, 'Loan Amount (USD)'] ,\\\n",
    "                                data.at[i, 'Industry'] ,\\\n",
    "                                data.at[i, 'Lending Region'] ,\\\n",
    "                                data.at[i, 'Country'] ,\\\n",
    "                                data.at[i, 'Loan Additionality'] ,\\\n",
    "                                data.at[i, 'Climate Change Hotspot'] ,\\\n",
    "                                data.at[i, 'Biodiversity Hotspot'] ,\\\n",
    "                                data.at[i, 'Soil Degradation Hotspot'] ,\\\n",
    "                                data.at[i, 'Water Scarcity Hotspot'] ,\\\n",
    "                                data.at[i, 'Certification'] ,\\\n",
    "                                data.at[i, 'Planting & maintaining trees for biodiversity conservation and carbon capture'] ,\\\n",
    "                                data.at[i, 'Clean & appropriate tech for reduced emissions and resource efficiency'] ,\\\n",
    "                                data.at[i, 'Poverty Level'] ,\\\n",
    "                                data.at[i, 'Gender Inclusion'] ,\\\n",
    "                                data.at[i, 'Livelihood Improvement'] ,\\\n",
    "                                data.at[i, 'Farmers & Employees'] ,\\\n",
    "                                data.at[i, 'Female Farmers & Employees'] ,\\\n",
    "                                data.at[i, 'Probability of Default'] ,\\\n",
    "                                data.at[i, 'Expected Revenue'] ,\\\n",
    "                                data.at[i, 'Expected Operating Expenses'] ,\\\n",
    "                                data.at[i, 'Expected Cost of Debt'] ,\\\n",
    "                                data.at[i, 'Expected Cost of Risk'] ,\\\n",
    "                                data.at[i, 'Expected Net Loan Income'])"
   ]
  },
  {
   "cell_type": "code",
   "execution_count": 8,
   "metadata": {},
   "outputs": [],
   "source": [
    "for i in data.index:\n",
    "    \n",
    "    data.at[i, 'Expected Impact Rating'] = data.at[i, 'Loan Object'].get_impact_rating()\n",
    "    if data.at[i, 'Expected Impact Rating'] <= 3:\n",
    "        data.at[i, 'Impact Group'] = 'Low'\n",
    "    elif data.at[i, 'Expected Impact Rating'] <= 6.5:\n",
    "        data.at[i, 'Impact Group'] = 'Intermediate'\n",
    "    else:\n",
    "        data.at[i, 'Impact Group'] = 'High'"
   ]
  },
  {
   "cell_type": "code",
   "execution_count": 9,
   "metadata": {},
   "outputs": [],
   "source": [
    "return_vs_impact = pd.DataFrame()\n",
    "return_vs_impact['Expected Impact Rating'] = data['Expected Impact Rating']\n",
    "return_vs_impact['Expected Net Loan Income'] = data['Expected Net Loan Income']"
   ]
  },
  {
   "cell_type": "code",
   "execution_count": 10,
   "metadata": {},
   "outputs": [
    {
     "data": {
      "text/plain": [
       "<seaborn.axisgrid.FacetGrid at 0x2bdee44ffd0>"
      ]
     },
     "execution_count": 10,
     "metadata": {},
     "output_type": "execute_result"
    },
    {
     "data": {
      "image/png": "[encoded data removed]",
      "text/plain": [
       "<matplotlib.figure.Figure at 0x2bdee44fac8>"
      ]
     },
     "metadata": {},
     "output_type": "display_data"
    }
   ],
   "source": [
    "sns.lmplot(x='Expected Impact Rating',\n",
    "           y='Expected Net Loan Income',\n",
    "           data=data,\n",
    "           hue='Impact Group',\n",
    "           fit_reg=False)\n"
   ]
  },
  {
   "cell_type": "code",
   "execution_count": 11,
   "metadata": {},
   "outputs": [
    {
     "data": {
      "text/plain": [
       "[<structures_and_methods.Loan at 0x2bdee45a898>,\n",
       " <structures_and_methods.Loan at 0x2bdee45a390>,\n",
       " <structures_and_methods.Loan at 0x2bdee45a940>,\n",
       " <structures_and_methods.Loan at 0x2bdee45a978>,\n",
       " <structures_and_methods.Loan at 0x2bdee45a9b0>]"
      ]
     },
     "execution_count": 11,
     "metadata": {},
     "output_type": "execute_result"
    }
   ],
   "source": [
    "loans = list(data['Loan Object'])\n",
    "loans[0:5]"
   ]
  },
  {
   "cell_type": "code",
   "execution_count": 12,
   "metadata": {},
   "outputs": [
    {
     "name": "stdout",
     "output_type": "stream",
     "text": [
      "Use greedy by impact to choose loans to make: \n",
      "Total Impact Rating of Loans: 177.75\n",
      "Total Net Income of Loans:    $-416070.0\n",
      "Loan #: 97\n",
      "Loan #: 98\n",
      "Loan #: 116\n",
      "Loan #: 117\n",
      "Loan #: 56\n",
      "Loan #: 86\n",
      "Loan #: 139\n",
      "Loan #: 169\n",
      "Loan #: 170\n",
      "Loan #: 18\n",
      "Loan #: 21\n",
      "Loan #: 66\n",
      "Loan #: 93\n",
      "Loan #: 140\n",
      "Loan #: 141\n",
      "Loan #: 142\n",
      "Loan #: 147\n",
      "Loan #: 167\n",
      "Loan #: 2\n",
      "Loan #: 13\n",
      "\n",
      "Use greedy by net income to choose loans to make: \n",
      "Total Impact Rating of Loans: 75.5\n",
      "Total Net Income of Loans:    $269646.0\n",
      "Loan #: 46\n",
      "Loan #: 177\n",
      "Loan #: 126\n",
      "Loan #: 171\n",
      "Loan #: 113\n",
      "Loan #: 134\n",
      "Loan #: 91\n",
      "Loan #: 158\n",
      "Loan #: 154\n",
      "Loan #: 200\n",
      "Loan #: 119\n",
      "Loan #: 59\n",
      "Loan #: 69\n",
      "Loan #: 45\n",
      "Loan #: 193\n",
      "Loan #: 37\n",
      "Loan #: 124\n",
      "Loan #: 194\n",
      "Loan #: 145\n",
      "Loan #: 148\n",
      "\n",
      "Use greedy by # of female farmers or employees affected: \n",
      "Total Impact Rating of Loans: 86.5\n",
      "Total Net Income of Loans:    $-205645.0\n",
      "Loan #: 158\n",
      "Loan #: 159\n",
      "Loan #: 172\n",
      "Loan #: 116\n",
      "Loan #: 117\n",
      "Loan #: 165\n",
      "Loan #: 5\n",
      "Loan #: 134\n",
      "Loan #: 177\n",
      "Loan #: 178\n",
      "Loan #: 26\n",
      "Loan #: 27\n",
      "Loan #: 11\n",
      "Loan #: 12\n",
      "Loan #: 83\n",
      "Loan #: 135\n",
      "Loan #: 191\n",
      "Loan #: 192\n",
      "Loan #: 131\n",
      "Loan #: 132\n"
     ]
    }
   ],
   "source": [
    "from structures_and_methods import greedy, test_greedy, test_greedies\n",
    "test_greedies(loans)"
   ]
  }
 ],
 "metadata": {
  "kernelspec": {
   "display_name": "Python 3",
   "language": "python",
   "name": "python3"
  },
  "language_info": {
   "codemirror_mode": {
    "name": "ipython",
    "version": 3
   },
   "file_extension": ".py",
   "mimetype": "text/x-python",
   "name": "python",
   "nbconvert_exporter": "python",
   "pygments_lexer": "ipython3",
   "version": "3.6.3"
  }
 },
 "nbformat": 4,
 "nbformat_minor": 2
}
