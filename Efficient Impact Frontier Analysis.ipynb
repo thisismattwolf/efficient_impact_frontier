{
 "cells": [
  {
   "cell_type": "markdown",
   "metadata": {},
   "source": [
    "## Constructing a Efficient Impact Frontier with Smallholder Agro-firm Loans Data"
   ]
  },
  {
   "cell_type": "markdown",
   "metadata": {},
   "source": [
    "In finance, the \"efficient frontier\" refers to the work of Harry Markowitz, and is the cornerstone of his Nobel-winning Modern Portfolio Theory. Briefly, it is the graphical representation of portfolios of assets that plots each portfolio's return (usually is Compound Annual Growth Rate) against its risk (usually the standard deviation of its returns). This graphic representation lets us identify which portfolio gives the maximum return at a given level of risk. Naturally, at that level of risk, any rational investor would prefer this return-maximizing portfolio over any other, lower-return portfolio. The graphical curve connecting these return-maximizing portfolios at different levels of risk represents an \"efficient frontier\", in that along that curve, portfolios offer the most efficient return for their risk levels. Thus, the efficient frontier allows us to visualize and intuitively understand the trade-off between risk and return given a \"universe\" of investable portfolios."
   ]
  },
  {
   "cell_type": "markdown",
   "metadata": {},
   "source": [
    "This concept can be adapted to development / impact / social finance as well. Rather than examine the risk-return tradeoff, one can try the same approach with the relationship between impact and returns. "
   ]
  },
  {
   "cell_type": "markdown",
   "metadata": {},
   "source": [
    "Let's load some useful libraries."
   ]
  },
  {
   "cell_type": "code",
   "execution_count": 31,
   "metadata": {},
   "outputs": [],
   "source": [
    "import pandas as pd                 # For data manipulation and data cleaning\n",
    "import numpy as np                  # Math and stuff\n",
    "import matplotlib.pyplot as plt     # For plotting  \n",
    "import seaborn as sns               # For plotting\n",
    "import structures_and_methods       # Contains data structures for easy modality and some functions for data prep\n",
    "%matplotlib inline                  "
   ]
  },
  {
   "cell_type": "markdown",
   "metadata": {},
   "source": [
    "This dictionary gives the names of the columns in the data, and the data type of those fields. We'll use it to import the data with the right data types."
   ]
  },
  {
   "cell_type": "code",
   "execution_count": 32,
   "metadata": {},
   "outputs": [],
   "source": [
    "field_converters={'Loan Number':str, 'Loan Amount (USD)':int, 'Industry':str, 'Lending Region':str, 'Country':str,\\\n",
    "                  'Loan Additionality':str, 'Climate Change Hotspot':bool, 'Biodiversity Hotspot':bool,\\\n",
    "                  'Soil Degradation Hotspot':bool, 'Water Scarcity Hotspot':bool, 'Certification':bool,\\\n",
    "                  'Planting & maintaining trees for biodiversity conservation and carbon capture':bool,\\\n",
    "                  'Clean & appropriate tech for reduced emissions and resource efficiency':bool, 'Poverty Level':str,\\\n",
    "                  'Gender Inclusion':bool, 'Livelihood Improvement':bool, 'Farmers & Employees':int,\\\n",
    "                  'Female \\nFarmers & Employees':int, 'Probability of Default':float, 'Expected Revenue':float,\\\n",
    "                  'Expected Operating Expenses':float, 'Expected Cost of Debt':float, 'Expected Cost of Risk':float,\\\n",
    "                  'Expected Net Loan Income':float}"
   ]
  },
  {
   "cell_type": "markdown",
   "metadata": {},
   "source": [
    "Now let's import the data from our CSV. Loan is a class of objects from the structures_and_methods.py file, and is a data structure intended to represent a single loan. "
   ]
  },
  {
   "cell_type": "code",
   "execution_count": 33,
   "metadata": {},
   "outputs": [
    {
     "data": {
      "text/plain": [
       "Index(['Loan Number', 'Loan Amount (USD)', 'Industry', 'Lending Region',\n",
       "       'Country', 'Loan Additionality', 'Climate Change Hotspot',\n",
       "       'Biodiversity Hotspot', 'Soil Degradation Hotspot',\n",
       "       'Water Scarcity Hotspot', 'Certification',\n",
       "       'Planting & maintaining trees for biodiversity conservation and carbon capture',\n",
       "       'Clean & appropriate tech for reduced emissions and resource efficiency',\n",
       "       'Poverty Level', 'Gender Inclusion', 'Livelihood Improvement',\n",
       "       'Farmers & Employees', 'Female Farmers & Employees',\n",
       "       'Probability of Default', 'Expected Revenue',\n",
       "       'Expected Operating Expenses', 'Expected Cost of Debt',\n",
       "       'Expected Cost of Risk', 'Expected Net Loan Income'],\n",
       "      dtype='object')"
      ]
     },
     "execution_count": 33,
     "metadata": {},
     "output_type": "execute_result"
    }
   ],
   "source": [
    "data = pd.read_csv('data.csv', converters=field_converters)\n",
    "data.columns"
   ]
  },
  {
   "cell_type": "code",
   "execution_count": 34,
   "metadata": {},
   "outputs": [],
   "source": [
    "from structures_and_methods import Loan\n",
    "for i in data.index:\n",
    "    \n",
    "    data.at[i, 'Loan Object'] = Loan(data.at[i, 'Loan Number'] ,\\\n",
    "                                data.at[i, 'Loan Amount (USD)'] ,\\\n",
    "                                data.at[i, 'Industry'] ,\\\n",
    "                                data.at[i, 'Lending Region'] ,\\\n",
    "                                data.at[i, 'Country'] ,\\\n",
    "                                data.at[i, 'Loan Additionality'] ,\\\n",
    "                                data.at[i, 'Climate Change Hotspot'] ,\\\n",
    "                                data.at[i, 'Biodiversity Hotspot'] ,\\\n",
    "                                data.at[i, 'Soil Degradation Hotspot'] ,\\\n",
    "                                data.at[i, 'Water Scarcity Hotspot'] ,\\\n",
    "                                data.at[i, 'Certification'] ,\\\n",
    "                                data.at[i, 'Planting & maintaining trees for biodiversity conservation and carbon capture'],\\\n",
    "                                data.at[i, 'Clean & appropriate tech for reduced emissions and resource efficiency'] ,\\\n",
    "                                data.at[i, 'Poverty Level'] ,\\\n",
    "                                data.at[i, 'Gender Inclusion'] ,\\\n",
    "                                data.at[i, 'Livelihood Improvement'] ,\\\n",
    "                                data.at[i, 'Farmers & Employees'] ,\\\n",
    "                                data.at[i, 'Female Farmers & Employees'] ,\\\n",
    "                                data.at[i, 'Probability of Default'] ,\\\n",
    "                                data.at[i, 'Expected Revenue'] ,\\\n",
    "                                data.at[i, 'Expected Operating Expenses'] ,\\\n",
    "                                data.at[i, 'Expected Cost of Debt'] ,\\\n",
    "                                data.at[i, 'Expected Cost of Risk'] ,\\\n",
    "                                data.at[i, 'Expected Net Loan Income'])"
   ]
  },
  {
   "cell_type": "code",
   "execution_count": 35,
   "metadata": {
    "collapsed": true
   },
   "outputs": [],
   "source": [
    "for i in data.index:\n",
    "    \n",
    "    data.at[i, 'Expected Impact Rating'] = data.at[i, 'Loan Object'].get_impact_rating()\n",
    "    if data.at[i, 'Expected Impact Rating'] <= 3:\n",
    "        data.at[i, 'Impact Group'] = 'Low'\n",
    "    elif data.at[i, 'Expected Impact Rating'] <= 6.5:\n",
    "        data.at[i, 'Impact Group'] = 'Intermediate'\n",
    "    else:\n",
    "        data.at[i, 'Impact Group'] = 'High'"
   ]
  },
  {
   "cell_type": "code",
   "execution_count": 37,
   "metadata": {},
   "outputs": [
    {
     "data": {
      "text/plain": [
       "<seaborn.axisgrid.FacetGrid at 0x1211c6e2208>"
      ]
     },
     "execution_count": 37,
     "metadata": {},
     "output_type": "execute_result"
    },
    {
     "data": {
      "image/png": "[encoded data removed]",
      "text/plain": [
       "<Figure size 460.5x360 with 1 Axes>"
      ]
     },
     "metadata": {},
     "output_type": "display_data"
    }
   ],
   "source": [
    "sns.lmplot(x='Expected Impact Rating',\n",
    "           y='Expected Net Loan Income',\n",
    "           data=data,\n",
    "           hue='Impact Group',\n",
    "           fit_reg=False)"
   ]
  },
  {
   "cell_type": "code",
   "execution_count": 38,
   "metadata": {},
   "outputs": [
    {
     "data": {
      "text/plain": [
       "[<structures_and_methods.Loan at 0x1211c6e21d0>,\n",
       " <structures_and_methods.Loan at 0x1211c6e2048>,\n",
       " <structures_and_methods.Loan at 0x1211c6e22b0>,\n",
       " <structures_and_methods.Loan at 0x1211c6e22e8>,\n",
       " <structures_and_methods.Loan at 0x1211c6e2320>]"
      ]
     },
     "execution_count": 38,
     "metadata": {},
     "output_type": "execute_result"
    }
   ],
   "source": [
    "loans = list(data['Loan Object'])\n",
    "loans[0:5]"
   ]
  },
  {
   "cell_type": "code",
   "execution_count": 8,
   "metadata": {
    "collapsed": true
   },
   "outputs": [],
   "source": [
    "#from structures_and_methods import greedy, test_greedy, test_greedies\n",
    "#test_greedies(loans)"
   ]
  },
  {
   "cell_type": "code",
   "execution_count": 39,
   "metadata": {
    "collapsed": true
   },
   "outputs": [],
   "source": [
    "from structures_and_methods import randomPortfolios, calcPortfolioMetrics\n",
    "portfolios100 = randomPortfolios(loans, 1000000)"
   ]
  },
  {
   "cell_type": "code",
   "execution_count": 40,
   "metadata": {
    "collapsed": true
   },
   "outputs": [],
   "source": [
    "portDF = pd.DataFrame()\n",
    "portDF['portfolio'] = portfolios100\n",
    "for i in portDF.index:\n",
    "    portDF.at[i, 'impact'], \\\n",
    "    portDF.at[i, 'income'], \\\n",
    "    portDF.at[i,'impact-group'], \\\n",
    "    portDF.at[i, 'avg-income'] = calcPortfolioMetrics(portDF.at[i, 'portfolio'])"
   ]
  },
  {
   "cell_type": "code",
   "execution_count": 41,
   "metadata": {},
   "outputs": [
    {
     "data": {
      "image/png": "[encoded data removed]",
      "text/plain": [
       "<Figure size 460.5x360 with 1 Axes>"
      ]
     },
     "metadata": {},
     "output_type": "display_data"
    }
   ],
   "source": [
    "def plotPortfolios(portfolios):\n",
    "    # intended to take a list of loan instances (the portfolio) and generate a \n",
    "    # chart of their positions on the Efficient Impact Frontier\n",
    "    import seaborn as sns\n",
    "    sns.lmplot(x='impact',\n",
    "           y='income',\n",
    "           data=portfolios,\n",
    "           hue='impact-group',\n",
    "           fit_reg=False)\n",
    "plotPortfolios(portDF)"
   ]
  },
  {
   "cell_type": "code",
   "execution_count": 15,
   "metadata": {},
   "outputs": [
    {
     "data": {
      "text/html": [
       "<div>\n",
       "<style scoped>\n",
       "    .dataframe tbody tr th:only-of-type {\n",
       "        vertical-align: middle;\n",
       "    }\n",
       "\n",
       "    .dataframe tbody tr th {\n",
       "        vertical-align: top;\n",
       "    }\n",
       "\n",
       "    .dataframe thead th {\n",
       "        text-align: right;\n",
       "    }\n",
       "</style>\n",
       "<table border=\"1\" class=\"dataframe\">\n",
       "  <thead>\n",
       "    <tr style=\"text-align: right;\">\n",
       "      <th></th>\n",
       "      <th>portfolio</th>\n",
       "      <th>impact</th>\n",
       "      <th>income</th>\n",
       "      <th>impact-group</th>\n",
       "      <th>avg-income</th>\n",
       "    </tr>\n",
       "  </thead>\n",
       "  <tbody>\n",
       "    <tr>\n",
       "      <th>0</th>\n",
       "      <td>[&lt;structures_and_methods.Loan object at 0x0000...</td>\n",
       "      <td>79.50</td>\n",
       "      <td>-266376.0</td>\n",
       "      <td>Intermediate</td>\n",
       "      <td>-13318.80</td>\n",
       "    </tr>\n",
       "    <tr>\n",
       "      <th>1</th>\n",
       "      <td>[&lt;structures_and_methods.Loan object at 0x0000...</td>\n",
       "      <td>92.50</td>\n",
       "      <td>-300173.0</td>\n",
       "      <td>Intermediate</td>\n",
       "      <td>-15008.65</td>\n",
       "    </tr>\n",
       "    <tr>\n",
       "      <th>2</th>\n",
       "      <td>[&lt;structures_and_methods.Loan object at 0x0000...</td>\n",
       "      <td>86.00</td>\n",
       "      <td>-229888.0</td>\n",
       "      <td>Intermediate</td>\n",
       "      <td>-11494.40</td>\n",
       "    </tr>\n",
       "    <tr>\n",
       "      <th>3</th>\n",
       "      <td>[&lt;structures_and_methods.Loan object at 0x0000...</td>\n",
       "      <td>87.50</td>\n",
       "      <td>-185808.0</td>\n",
       "      <td>Intermediate</td>\n",
       "      <td>-9290.40</td>\n",
       "    </tr>\n",
       "    <tr>\n",
       "      <th>4</th>\n",
       "      <td>[&lt;structures_and_methods.Loan object at 0x0000...</td>\n",
       "      <td>75.25</td>\n",
       "      <td>-249335.0</td>\n",
       "      <td>Intermediate</td>\n",
       "      <td>-12466.75</td>\n",
       "    </tr>\n",
       "  </tbody>\n",
       "</table>\n",
       "</div>"
      ],
      "text/plain": [
       "                                           portfolio  impact    income  \\\n",
       "0  [<structures_and_methods.Loan object at 0x0000...   79.50 -266376.0   \n",
       "1  [<structures_and_methods.Loan object at 0x0000...   92.50 -300173.0   \n",
       "2  [<structures_and_methods.Loan object at 0x0000...   86.00 -229888.0   \n",
       "3  [<structures_and_methods.Loan object at 0x0000...   87.50 -185808.0   \n",
       "4  [<structures_and_methods.Loan object at 0x0000...   75.25 -249335.0   \n",
       "\n",
       "   impact-group  avg-income  \n",
       "0  Intermediate   -13318.80  \n",
       "1  Intermediate   -15008.65  \n",
       "2  Intermediate   -11494.40  \n",
       "3  Intermediate    -9290.40  \n",
       "4  Intermediate   -12466.75  "
      ]
     },
     "execution_count": 15,
     "metadata": {},
     "output_type": "execute_result"
    }
   ],
   "source": [
    "portDF.head()"
   ]
  },
  {
   "cell_type": "code",
   "execution_count": 33,
   "metadata": {
    "collapsed": true
   },
   "outputs": [],
   "source": [
    "positivePortDF = portDF[portDF['income']>0].reset_index()"
   ]
  },
  {
   "cell_type": "code",
   "execution_count": 53,
   "metadata": {},
   "outputs": [
    {
     "name": "stdout",
     "output_type": "stream",
     "text": [
      "95.0\n",
      "178.0\n",
      "94.0\n",
      "81.0\n",
      "91.0\n",
      "170.0\n",
      "33.0\n",
      "46.0\n",
      "134.0\n",
      "145.0\n",
      "37.0\n",
      "146.0\n",
      "143.0\n",
      "126.0\n",
      "172.0\n",
      "158.0\n",
      "9.0\n",
      "150.0\n",
      "58.0\n",
      "177.0\n"
     ]
    }
   ],
   "source": [
    "port = list(positivePortDF.loc[[3]]['portfolio'])\n",
    "for i in range(len(port[0])):\n",
    "    print(port[0][i].get_loan_number())"
   ]
  },
  {
   "cell_type": "code",
   "execution_count": 51,
   "metadata": {},
   "outputs": [
    {
     "data": {
      "text/plain": [
       "20"
      ]
     },
     "execution_count": 51,
     "metadata": {},
     "output_type": "execute_result"
    }
   ],
   "source": [
    "len(port[0])"
   ]
  }
 ],
 "metadata": {
  "kernelspec": {
   "display_name": "Python 3",
   "language": "python",
   "name": "python3"
  },
  "language_info": {
   "codemirror_mode": {
    "name": "ipython",
    "version": 3
   },
   "file_extension": ".py",
   "mimetype": "text/x-python",
   "name": "python",
   "nbconvert_exporter": "python",
   "pygments_lexer": "ipython3",
   "version": "3.6.3"
  }
 },
 "nbformat": 4,
 "nbformat_minor": 2
}
